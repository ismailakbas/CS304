{
  "cells": [
    {
      "cell_type": "markdown",
      "metadata": {
        "id": "view-in-github",
        "colab_type": "text"
      },
      "source": [
        "<a href=\"https://colab.research.google.com/github/ismailakbas/CS304/blob/main/CS304_HW1.ipynb\" target=\"_parent\"><img src=\"https://colab.research.google.com/assets/colab-badge.svg\" alt=\"Open In Colab\"/></a>"
      ]
    },
    {
      "cell_type": "markdown",
      "metadata": {
        "id": "fJ6VKhyaYtFN"
      },
      "source": [
        "# Homework 1\n",
        "If you have any questions please send an email to the TA Ahmet Tavlı (ahmet.tavli@ozu.edu.tr) (Office hours: Monday 245A 16.00 - 18.00)"
      ]
    },
    {
      "cell_type": "markdown",
      "metadata": {
        "id": "Y8leBJU3Y1j3"
      },
      "source": [
        "# Step 1: Load and analyze the data"
      ]
    },
    {
      "cell_type": "markdown",
      "metadata": {
        "id": "Jd98xnxdZLxo"
      },
      "source": [
        "## Step 1.a Load the two datasets ##"
      ]
    },
    {
      "cell_type": "code",
      "execution_count": null,
      "metadata": {
        "colab": {
          "base_uri": "https://localhost:8080/"
        },
        "id": "etgUS4qkZV_M",
        "outputId": "9acbf340-cb07-4f82-beef-e3bacf74a48d"
      },
      "outputs": [
        {
          "output_type": "stream",
          "name": "stdout",
          "text": [
            "Drive already mounted at /content/drive; to attempt to forcibly remount, call drive.mount(\"/content/drive\", force_remount=True).\n",
            "\n",
            "Both titanictrain.csv and titanictest.csv exists.\n"
          ]
        }
      ],
      "source": [
        "# First, let's check whether the training and the test files exist in our file.\n",
        "from os.path import exists\n",
        "import pandas as pd\n",
        "\n",
        "from google.colab import drive\n",
        "drive.mount('/content/drive')\n",
        "\n",
        "train_data = \"titanictrain.csv\"\n",
        "test_data = \"titanictest.csv\"\n",
        "\n",
        "# - Supress all warnings (Optional)\n",
        "import warnings\n",
        "warnings.simplefilter(action='ignore',\n",
        "                      category=FutureWarning)\n",
        "\n",
        "if exists(train_data) and exists(test_data):\n",
        "    print(f\"\\nBoth {train_data} and {test_data} exists.\")\n",
        "else:\n",
        "    print(\"Please set directory to read the files\")\n"
      ]
    },
    {
      "cell_type": "code",
      "execution_count": null,
      "metadata": {
        "id": "62Qrfxysc94Z"
      },
      "outputs": [],
      "source": [
        "\n",
        "\n",
        "from pandas import read_csv\n",
        "from os.path import exists\n",
        "import pandas as pd\n",
        "#test_data = \"titanictrain.csv\"\n",
        "#train_data = \"titanictest.csv\""
      ]
    },
    {
      "cell_type": "markdown",
      "metadata": {
        "id": "VY4uYP36as9y"
      },
      "source": [
        "##Step 1.b Display the shape of both training and test data.##\n",
        "\n",
        "The shape of each data shows a summary of the dataset.\n",
        "\n",
        "For example, \"(890, 12)\" should be interpreted as 890 samples with ten features, where\n",
        "\n",
        "890 is the row size (or height of the data)\n",
        "12 is the column size (or width of the data)\n",
        "\n",
        "**Hint!**: You can use the shape method"
      ]
    },
    {
      "cell_type": "code",
      "execution_count": null,
      "metadata": {
        "colab": {
          "base_uri": "https://localhost:8080/"
        },
        "id": "BVD10G-da5wq",
        "outputId": "c09529e0-123b-40ed-a5bc-c3fcbbac2a8b"
      },
      "outputs": [
        {
          "output_type": "stream",
          "name": "stdout",
          "text": [
            "Train shape: (891, 12)\n",
            "Test shape: (418, 11)\n",
            "\n",
            "Training data:\n",
            "   PassengerId  Survived  Pclass  \\\n",
            "0            1         0       3   \n",
            "1            2         1       1   \n",
            "2            3         1       3   \n",
            "3            4         1       1   \n",
            "4            5         0       3   \n",
            "\n",
            "                                                Name     Sex   Age  SibSp  \\\n",
            "0                            Braund, Mr. Owen Harris    male  22.0      1   \n",
            "1  Cumings, Mrs. John Bradley (Florence Briggs Th...  female  38.0      1   \n",
            "2                             Heikkinen, Miss. Laina  female  26.0      0   \n",
            "3       Futrelle, Mrs. Jacques Heath (Lily May Peel)  female  35.0      1   \n",
            "4                           Allen, Mr. William Henry    male  35.0      0   \n",
            "\n",
            "   Parch            Ticket     Fare Cabin Embarked  \n",
            "0      0         A/5 21171   7.2500   NaN        S  \n",
            "1      0          PC 17599  71.2833   C85        C  \n",
            "2      0  STON/O2. 3101282   7.9250   NaN        S  \n",
            "3      0            113803  53.1000  C123        S  \n",
            "4      0            373450   8.0500   NaN        S  \n",
            "\n",
            "Test data:\n",
            "   PassengerId  Pclass                                          Name     Sex  \\\n",
            "0          892       3                              Kelly, Mr. James    male   \n",
            "1          893       3              Wilkes, Mrs. James (Ellen Needs)  female   \n",
            "2          894       2                     Myles, Mr. Thomas Francis    male   \n",
            "3          895       3                              Wirz, Mr. Albert    male   \n",
            "4          896       3  Hirvonen, Mrs. Alexander (Helga E Lindqvist)  female   \n",
            "\n",
            "    Age  SibSp  Parch   Ticket     Fare Cabin Embarked  \n",
            "0  34.5      0      0   330911   7.8292   NaN        Q  \n",
            "1  47.0      1      0   363272   7.0000   NaN        S  \n",
            "2  62.0      0      0   240276   9.6875   NaN        Q  \n",
            "3  27.0      0      0   315154   8.6625   NaN        S  \n",
            "4  22.0      1      1  3101298  12.2875   NaN        S  \n"
          ]
        }
      ],
      "source": [
        "import pandas as pd\n",
        "\n",
        "train_df = pd.read_csv(train_data)\n",
        "test_df = pd.read_csv(test_data)\n",
        "\n",
        "print(f\"Train shape: {train_df.shape}\")\n",
        "print(f\"Test shape: {test_df.shape}\")\n",
        "\n",
        "\n",
        "\n",
        "print(\"\\nTraining data:\")\n",
        "print(train_df.head())\n",
        "\n",
        "print(\"\\nTest data:\")\n",
        "print(test_df.head())\n"
      ]
    },
    {
      "cell_type": "markdown",
      "metadata": {
        "id": "YhJBvWaVbOOP"
      },
      "source": [
        "## Step 1.c Display the first five rows of training and test data ##"
      ]
    },
    {
      "cell_type": "code",
      "execution_count": null,
      "metadata": {
        "colab": {
          "base_uri": "https://localhost:8080/"
        },
        "id": "I-UKcJbzbX7s",
        "outputId": "aaab2516-f9a2-4e7c-f584-84b5a3ba23c2"
      },
      "outputs": [
        {
          "output_type": "stream",
          "name": "stdout",
          "text": [
            "\n",
            "First five rows of training data:\n",
            "   PassengerId  Survived  Pclass  \\\n",
            "0            1         0       3   \n",
            "1            2         1       1   \n",
            "2            3         1       3   \n",
            "3            4         1       1   \n",
            "4            5         0       3   \n",
            "\n",
            "                                                Name     Sex   Age  SibSp  \\\n",
            "0                            Braund, Mr. Owen Harris    male  22.0      1   \n",
            "1  Cumings, Mrs. John Bradley (Florence Briggs Th...  female  38.0      1   \n",
            "2                             Heikkinen, Miss. Laina  female  26.0      0   \n",
            "3       Futrelle, Mrs. Jacques Heath (Lily May Peel)  female  35.0      1   \n",
            "4                           Allen, Mr. William Henry    male  35.0      0   \n",
            "\n",
            "   Parch            Ticket     Fare Cabin Embarked  \n",
            "0      0         A/5 21171   7.2500   NaN        S  \n",
            "1      0          PC 17599  71.2833   C85        C  \n",
            "2      0  STON/O2. 3101282   7.9250   NaN        S  \n",
            "3      0            113803  53.1000  C123        S  \n",
            "4      0            373450   8.0500   NaN        S  \n"
          ]
        }
      ],
      "source": [
        "print(\"\\nFirst five rows of training data:\")\n",
        "print(train_df.head())"
      ]
    },
    {
      "cell_type": "code",
      "execution_count": null,
      "metadata": {
        "colab": {
          "base_uri": "https://localhost:8080/"
        },
        "id": "0XsWGA9ScC7d",
        "outputId": "56bb9a15-21d3-4cf0-8b70-30c8c192e47c"
      },
      "outputs": [
        {
          "output_type": "stream",
          "name": "stdout",
          "text": [
            "\n",
            "First five rows of test data:\n",
            "   PassengerId  Pclass                                          Name     Sex  \\\n",
            "0          892       3                              Kelly, Mr. James    male   \n",
            "1          893       3              Wilkes, Mrs. James (Ellen Needs)  female   \n",
            "2          894       2                     Myles, Mr. Thomas Francis    male   \n",
            "3          895       3                              Wirz, Mr. Albert    male   \n",
            "4          896       3  Hirvonen, Mrs. Alexander (Helga E Lindqvist)  female   \n",
            "\n",
            "    Age  SibSp  Parch   Ticket     Fare Cabin Embarked  \n",
            "0  34.5      0      0   330911   7.8292   NaN        Q  \n",
            "1  47.0      1      0   363272   7.0000   NaN        S  \n",
            "2  62.0      0      0   240276   9.6875   NaN        Q  \n",
            "3  27.0      0      0   315154   8.6625   NaN        S  \n",
            "4  22.0      1      1  3101298  12.2875   NaN        S  \n"
          ]
        }
      ],
      "source": [
        "print(\"\\nFirst five rows of test data:\")\n",
        "print(test_df.head())"
      ]
    },
    {
      "cell_type": "markdown",
      "metadata": {
        "id": "wN1m7mFIcRnb"
      },
      "source": [
        "## Step 1.e Determine which column exists in the training set but is missing in the test set ##\n",
        "\n",
        "Training and test sets have different number of features (columns).\n",
        "\n",
        "In Step 1.b you saw that the traind_df has 12 columns bur test_df has 11 columns\n",
        "\n",
        "We need to find which column is missing in the test data.\n",
        "\n",
        "**Hint!**: You can access the features using keys method.\n",
        "\n",
        "**Hint!**: Iterate through the keys of training samples, and check if it is in the set of test features."
      ]
    },
    {
      "cell_type": "code",
      "execution_count": null,
      "metadata": {
        "colab": {
          "base_uri": "https://localhost:8080/"
        },
        "id": "w65srsaRcp_X",
        "outputId": "7b586a58-491f-426e-d060-f62068893555"
      },
      "outputs": [
        {
          "output_type": "stream",
          "name": "stdout",
          "text": [
            "Missing column: Survived\n"
          ]
        }
      ],
      "source": [
        "missing_column = None\n",
        "\n",
        "for column in train_df.columns:\n",
        "    if column not in test_df.columns:\n",
        "        missing_column = column\n",
        "        break\n",
        "\n",
        "print(\"Missing column:\", missing_column)"
      ]
    },
    {
      "cell_type": "markdown",
      "metadata": {
        "id": "ZV1vKKICdkAb"
      },
      "source": [
        "## Step 1.f Observe the datatype of each column using the .info() method ##"
      ]
    },
    {
      "cell_type": "code",
      "execution_count": null,
      "metadata": {
        "colab": {
          "base_uri": "https://localhost:8080/"
        },
        "id": "94fN05Npcb1D",
        "outputId": "d55bca3d-f2e6-4f80-dbd4-4ee36814b904"
      },
      "outputs": [
        {
          "output_type": "stream",
          "name": "stdout",
          "text": [
            "<class 'pandas.core.frame.DataFrame'>\n",
            "RangeIndex: 891 entries, 0 to 890\n",
            "Data columns (total 12 columns):\n",
            " #   Column       Non-Null Count  Dtype  \n",
            "---  ------       --------------  -----  \n",
            " 0   PassengerId  891 non-null    int64  \n",
            " 1   Survived     891 non-null    int64  \n",
            " 2   Pclass       891 non-null    int64  \n",
            " 3   Name         891 non-null    object \n",
            " 4   Sex          891 non-null    object \n",
            " 5   Age          714 non-null    float64\n",
            " 6   SibSp        891 non-null    int64  \n",
            " 7   Parch        891 non-null    int64  \n",
            " 8   Ticket       891 non-null    object \n",
            " 9   Fare         891 non-null    float64\n",
            " 10  Cabin        204 non-null    object \n",
            " 11  Embarked     889 non-null    object \n",
            "dtypes: float64(2), int64(5), object(5)\n",
            "memory usage: 83.7+ KB\n",
            "<class 'pandas.core.frame.DataFrame'>\n",
            "RangeIndex: 418 entries, 0 to 417\n",
            "Data columns (total 11 columns):\n",
            " #   Column       Non-Null Count  Dtype  \n",
            "---  ------       --------------  -----  \n",
            " 0   PassengerId  418 non-null    int64  \n",
            " 1   Pclass       418 non-null    int64  \n",
            " 2   Name         418 non-null    object \n",
            " 3   Sex          418 non-null    object \n",
            " 4   Age          332 non-null    float64\n",
            " 5   SibSp        418 non-null    int64  \n",
            " 6   Parch        418 non-null    int64  \n",
            " 7   Ticket       418 non-null    object \n",
            " 8   Fare         417 non-null    float64\n",
            " 9   Cabin        91 non-null     object \n",
            " 10  Embarked     418 non-null    object \n",
            "dtypes: float64(2), int64(4), object(5)\n",
            "memory usage: 36.0+ KB\n"
          ]
        }
      ],
      "source": [
        "train_df.info()\n",
        "test_df.info()"
      ]
    },
    {
      "cell_type": "code",
      "execution_count": null,
      "metadata": {
        "colab": {
          "base_uri": "https://localhost:8080/",
          "height": 300
        },
        "id": "_cTgOXSp4Bpg",
        "outputId": "c0408fb7-f12b-47d7-d2e3-8360c537de06"
      },
      "outputs": [
        {
          "output_type": "execute_result",
          "data": {
            "text/plain": [
              "       PassengerId    Survived      Pclass         Age       SibSp  \\\n",
              "count   891.000000  891.000000  891.000000  714.000000  891.000000   \n",
              "mean    446.000000    0.383838    2.308642   29.699118    0.523008   \n",
              "std     257.353842    0.486592    0.836071   14.526497    1.102743   \n",
              "min       1.000000    0.000000    1.000000    0.420000    0.000000   \n",
              "25%     223.500000    0.000000    2.000000   20.125000    0.000000   \n",
              "50%     446.000000    0.000000    3.000000   28.000000    0.000000   \n",
              "75%     668.500000    1.000000    3.000000   38.000000    1.000000   \n",
              "max     891.000000    1.000000    3.000000   80.000000    8.000000   \n",
              "\n",
              "            Parch        Fare  \n",
              "count  891.000000  891.000000  \n",
              "mean     0.381594   32.204208  \n",
              "std      0.806057   49.693429  \n",
              "min      0.000000    0.000000  \n",
              "25%      0.000000    7.910400  \n",
              "50%      0.000000   14.454200  \n",
              "75%      0.000000   31.000000  \n",
              "max      6.000000  512.329200  "
            ],
            "text/html": [
              "\n",
              "  <div id=\"df-ca39a909-2f73-4bd5-905b-0272534a2e69\" class=\"colab-df-container\">\n",
              "    <div>\n",
              "<style scoped>\n",
              "    .dataframe tbody tr th:only-of-type {\n",
              "        vertical-align: middle;\n",
              "    }\n",
              "\n",
              "    .dataframe tbody tr th {\n",
              "        vertical-align: top;\n",
              "    }\n",
              "\n",
              "    .dataframe thead th {\n",
              "        text-align: right;\n",
              "    }\n",
              "</style>\n",
              "<table border=\"1\" class=\"dataframe\">\n",
              "  <thead>\n",
              "    <tr style=\"text-align: right;\">\n",
              "      <th></th>\n",
              "      <th>PassengerId</th>\n",
              "      <th>Survived</th>\n",
              "      <th>Pclass</th>\n",
              "      <th>Age</th>\n",
              "      <th>SibSp</th>\n",
              "      <th>Parch</th>\n",
              "      <th>Fare</th>\n",
              "    </tr>\n",
              "  </thead>\n",
              "  <tbody>\n",
              "    <tr>\n",
              "      <th>count</th>\n",
              "      <td>891.000000</td>\n",
              "      <td>891.000000</td>\n",
              "      <td>891.000000</td>\n",
              "      <td>714.000000</td>\n",
              "      <td>891.000000</td>\n",
              "      <td>891.000000</td>\n",
              "      <td>891.000000</td>\n",
              "    </tr>\n",
              "    <tr>\n",
              "      <th>mean</th>\n",
              "      <td>446.000000</td>\n",
              "      <td>0.383838</td>\n",
              "      <td>2.308642</td>\n",
              "      <td>29.699118</td>\n",
              "      <td>0.523008</td>\n",
              "      <td>0.381594</td>\n",
              "      <td>32.204208</td>\n",
              "    </tr>\n",
              "    <tr>\n",
              "      <th>std</th>\n",
              "      <td>257.353842</td>\n",
              "      <td>0.486592</td>\n",
              "      <td>0.836071</td>\n",
              "      <td>14.526497</td>\n",
              "      <td>1.102743</td>\n",
              "      <td>0.806057</td>\n",
              "      <td>49.693429</td>\n",
              "    </tr>\n",
              "    <tr>\n",
              "      <th>min</th>\n",
              "      <td>1.000000</td>\n",
              "      <td>0.000000</td>\n",
              "      <td>1.000000</td>\n",
              "      <td>0.420000</td>\n",
              "      <td>0.000000</td>\n",
              "      <td>0.000000</td>\n",
              "      <td>0.000000</td>\n",
              "    </tr>\n",
              "    <tr>\n",
              "      <th>25%</th>\n",
              "      <td>223.500000</td>\n",
              "      <td>0.000000</td>\n",
              "      <td>2.000000</td>\n",
              "      <td>20.125000</td>\n",
              "      <td>0.000000</td>\n",
              "      <td>0.000000</td>\n",
              "      <td>7.910400</td>\n",
              "    </tr>\n",
              "    <tr>\n",
              "      <th>50%</th>\n",
              "      <td>446.000000</td>\n",
              "      <td>0.000000</td>\n",
              "      <td>3.000000</td>\n",
              "      <td>28.000000</td>\n",
              "      <td>0.000000</td>\n",
              "      <td>0.000000</td>\n",
              "      <td>14.454200</td>\n",
              "    </tr>\n",
              "    <tr>\n",
              "      <th>75%</th>\n",
              "      <td>668.500000</td>\n",
              "      <td>1.000000</td>\n",
              "      <td>3.000000</td>\n",
              "      <td>38.000000</td>\n",
              "      <td>1.000000</td>\n",
              "      <td>0.000000</td>\n",
              "      <td>31.000000</td>\n",
              "    </tr>\n",
              "    <tr>\n",
              "      <th>max</th>\n",
              "      <td>891.000000</td>\n",
              "      <td>1.000000</td>\n",
              "      <td>3.000000</td>\n",
              "      <td>80.000000</td>\n",
              "      <td>8.000000</td>\n",
              "      <td>6.000000</td>\n",
              "      <td>512.329200</td>\n",
              "    </tr>\n",
              "  </tbody>\n",
              "</table>\n",
              "</div>\n",
              "    <div class=\"colab-df-buttons\">\n",
              "\n",
              "  <div class=\"colab-df-container\">\n",
              "    <button class=\"colab-df-convert\" onclick=\"convertToInteractive('df-ca39a909-2f73-4bd5-905b-0272534a2e69')\"\n",
              "            title=\"Convert this dataframe to an interactive table.\"\n",
              "            style=\"display:none;\">\n",
              "\n",
              "  <svg xmlns=\"http://www.w3.org/2000/svg\" height=\"24px\" viewBox=\"0 -960 960 960\">\n",
              "    <path d=\"M120-120v-720h720v720H120Zm60-500h600v-160H180v160Zm220 220h160v-160H400v160Zm0 220h160v-160H400v160ZM180-400h160v-160H180v160Zm440 0h160v-160H620v160ZM180-180h160v-160H180v160Zm440 0h160v-160H620v160Z\"/>\n",
              "  </svg>\n",
              "    </button>\n",
              "\n",
              "  <style>\n",
              "    .colab-df-container {\n",
              "      display:flex;\n",
              "      gap: 12px;\n",
              "    }\n",
              "\n",
              "    .colab-df-convert {\n",
              "      background-color: #E8F0FE;\n",
              "      border: none;\n",
              "      border-radius: 50%;\n",
              "      cursor: pointer;\n",
              "      display: none;\n",
              "      fill: #1967D2;\n",
              "      height: 32px;\n",
              "      padding: 0 0 0 0;\n",
              "      width: 32px;\n",
              "    }\n",
              "\n",
              "    .colab-df-convert:hover {\n",
              "      background-color: #E2EBFA;\n",
              "      box-shadow: 0px 1px 2px rgba(60, 64, 67, 0.3), 0px 1px 3px 1px rgba(60, 64, 67, 0.15);\n",
              "      fill: #174EA6;\n",
              "    }\n",
              "\n",
              "    .colab-df-buttons div {\n",
              "      margin-bottom: 4px;\n",
              "    }\n",
              "\n",
              "    [theme=dark] .colab-df-convert {\n",
              "      background-color: #3B4455;\n",
              "      fill: #D2E3FC;\n",
              "    }\n",
              "\n",
              "    [theme=dark] .colab-df-convert:hover {\n",
              "      background-color: #434B5C;\n",
              "      box-shadow: 0px 1px 3px 1px rgba(0, 0, 0, 0.15);\n",
              "      filter: drop-shadow(0px 1px 2px rgba(0, 0, 0, 0.3));\n",
              "      fill: #FFFFFF;\n",
              "    }\n",
              "  </style>\n",
              "\n",
              "    <script>\n",
              "      const buttonEl =\n",
              "        document.querySelector('#df-ca39a909-2f73-4bd5-905b-0272534a2e69 button.colab-df-convert');\n",
              "      buttonEl.style.display =\n",
              "        google.colab.kernel.accessAllowed ? 'block' : 'none';\n",
              "\n",
              "      async function convertToInteractive(key) {\n",
              "        const element = document.querySelector('#df-ca39a909-2f73-4bd5-905b-0272534a2e69');\n",
              "        const dataTable =\n",
              "          await google.colab.kernel.invokeFunction('convertToInteractive',\n",
              "                                                    [key], {});\n",
              "        if (!dataTable) return;\n",
              "\n",
              "        const docLinkHtml = 'Like what you see? Visit the ' +\n",
              "          '<a target=\"_blank\" href=https://colab.research.google.com/notebooks/data_table.ipynb>data table notebook</a>'\n",
              "          + ' to learn more about interactive tables.';\n",
              "        element.innerHTML = '';\n",
              "        dataTable['output_type'] = 'display_data';\n",
              "        await google.colab.output.renderOutput(dataTable, element);\n",
              "        const docLink = document.createElement('div');\n",
              "        docLink.innerHTML = docLinkHtml;\n",
              "        element.appendChild(docLink);\n",
              "      }\n",
              "    </script>\n",
              "  </div>\n",
              "\n",
              "\n",
              "<div id=\"df-a81ff4f0-6baf-45e1-b2bc-32954073227e\">\n",
              "  <button class=\"colab-df-quickchart\" onclick=\"quickchart('df-a81ff4f0-6baf-45e1-b2bc-32954073227e')\"\n",
              "            title=\"Suggest charts\"\n",
              "            style=\"display:none;\">\n",
              "\n",
              "<svg xmlns=\"http://www.w3.org/2000/svg\" height=\"24px\"viewBox=\"0 0 24 24\"\n",
              "     width=\"24px\">\n",
              "    <g>\n",
              "        <path d=\"M19 3H5c-1.1 0-2 .9-2 2v14c0 1.1.9 2 2 2h14c1.1 0 2-.9 2-2V5c0-1.1-.9-2-2-2zM9 17H7v-7h2v7zm4 0h-2V7h2v10zm4 0h-2v-4h2v4z\"/>\n",
              "    </g>\n",
              "</svg>\n",
              "  </button>\n",
              "\n",
              "<style>\n",
              "  .colab-df-quickchart {\n",
              "      --bg-color: #E8F0FE;\n",
              "      --fill-color: #1967D2;\n",
              "      --hover-bg-color: #E2EBFA;\n",
              "      --hover-fill-color: #174EA6;\n",
              "      --disabled-fill-color: #AAA;\n",
              "      --disabled-bg-color: #DDD;\n",
              "  }\n",
              "\n",
              "  [theme=dark] .colab-df-quickchart {\n",
              "      --bg-color: #3B4455;\n",
              "      --fill-color: #D2E3FC;\n",
              "      --hover-bg-color: #434B5C;\n",
              "      --hover-fill-color: #FFFFFF;\n",
              "      --disabled-bg-color: #3B4455;\n",
              "      --disabled-fill-color: #666;\n",
              "  }\n",
              "\n",
              "  .colab-df-quickchart {\n",
              "    background-color: var(--bg-color);\n",
              "    border: none;\n",
              "    border-radius: 50%;\n",
              "    cursor: pointer;\n",
              "    display: none;\n",
              "    fill: var(--fill-color);\n",
              "    height: 32px;\n",
              "    padding: 0;\n",
              "    width: 32px;\n",
              "  }\n",
              "\n",
              "  .colab-df-quickchart:hover {\n",
              "    background-color: var(--hover-bg-color);\n",
              "    box-shadow: 0 1px 2px rgba(60, 64, 67, 0.3), 0 1px 3px 1px rgba(60, 64, 67, 0.15);\n",
              "    fill: var(--button-hover-fill-color);\n",
              "  }\n",
              "\n",
              "  .colab-df-quickchart-complete:disabled,\n",
              "  .colab-df-quickchart-complete:disabled:hover {\n",
              "    background-color: var(--disabled-bg-color);\n",
              "    fill: var(--disabled-fill-color);\n",
              "    box-shadow: none;\n",
              "  }\n",
              "\n",
              "  .colab-df-spinner {\n",
              "    border: 2px solid var(--fill-color);\n",
              "    border-color: transparent;\n",
              "    border-bottom-color: var(--fill-color);\n",
              "    animation:\n",
              "      spin 1s steps(1) infinite;\n",
              "  }\n",
              "\n",
              "  @keyframes spin {\n",
              "    0% {\n",
              "      border-color: transparent;\n",
              "      border-bottom-color: var(--fill-color);\n",
              "      border-left-color: var(--fill-color);\n",
              "    }\n",
              "    20% {\n",
              "      border-color: transparent;\n",
              "      border-left-color: var(--fill-color);\n",
              "      border-top-color: var(--fill-color);\n",
              "    }\n",
              "    30% {\n",
              "      border-color: transparent;\n",
              "      border-left-color: var(--fill-color);\n",
              "      border-top-color: var(--fill-color);\n",
              "      border-right-color: var(--fill-color);\n",
              "    }\n",
              "    40% {\n",
              "      border-color: transparent;\n",
              "      border-right-color: var(--fill-color);\n",
              "      border-top-color: var(--fill-color);\n",
              "    }\n",
              "    60% {\n",
              "      border-color: transparent;\n",
              "      border-right-color: var(--fill-color);\n",
              "    }\n",
              "    80% {\n",
              "      border-color: transparent;\n",
              "      border-right-color: var(--fill-color);\n",
              "      border-bottom-color: var(--fill-color);\n",
              "    }\n",
              "    90% {\n",
              "      border-color: transparent;\n",
              "      border-bottom-color: var(--fill-color);\n",
              "    }\n",
              "  }\n",
              "</style>\n",
              "\n",
              "  <script>\n",
              "    async function quickchart(key) {\n",
              "      const quickchartButtonEl =\n",
              "        document.querySelector('#' + key + ' button');\n",
              "      quickchartButtonEl.disabled = true;  // To prevent multiple clicks.\n",
              "      quickchartButtonEl.classList.add('colab-df-spinner');\n",
              "      try {\n",
              "        const charts = await google.colab.kernel.invokeFunction(\n",
              "            'suggestCharts', [key], {});\n",
              "      } catch (error) {\n",
              "        console.error('Error during call to suggestCharts:', error);\n",
              "      }\n",
              "      quickchartButtonEl.classList.remove('colab-df-spinner');\n",
              "      quickchartButtonEl.classList.add('colab-df-quickchart-complete');\n",
              "    }\n",
              "    (() => {\n",
              "      let quickchartButtonEl =\n",
              "        document.querySelector('#df-a81ff4f0-6baf-45e1-b2bc-32954073227e button');\n",
              "      quickchartButtonEl.style.display =\n",
              "        google.colab.kernel.accessAllowed ? 'block' : 'none';\n",
              "    })();\n",
              "  </script>\n",
              "</div>\n",
              "    </div>\n",
              "  </div>\n"
            ],
            "application/vnd.google.colaboratory.intrinsic+json": {
              "type": "dataframe",
              "summary": "{\n  \"name\": \"train_df\",\n  \"rows\": 8,\n  \"fields\": [\n    {\n      \"column\": \"PassengerId\",\n      \"properties\": {\n        \"dtype\": \"number\",\n        \"std\": 320.8159711429855,\n        \"min\": 1.0,\n        \"max\": 891.0,\n        \"num_unique_values\": 6,\n        \"samples\": [\n          891.0,\n          446.0,\n          668.5\n        ],\n        \"semantic_type\": \"\",\n        \"description\": \"\"\n      }\n    },\n    {\n      \"column\": \"Survived\",\n      \"properties\": {\n        \"dtype\": \"number\",\n        \"std\": 314.8713661874558,\n        \"min\": 0.0,\n        \"max\": 891.0,\n        \"num_unique_values\": 5,\n        \"samples\": [\n          0.3838383838383838,\n          1.0,\n          0.4865924542648575\n        ],\n        \"semantic_type\": \"\",\n        \"description\": \"\"\n      }\n    },\n    {\n      \"column\": \"Pclass\",\n      \"properties\": {\n        \"dtype\": \"number\",\n        \"std\": 314.2523437079694,\n        \"min\": 0.836071240977049,\n        \"max\": 891.0,\n        \"num_unique_values\": 6,\n        \"samples\": [\n          891.0,\n          2.308641975308642,\n          3.0\n        ],\n        \"semantic_type\": \"\",\n        \"description\": \"\"\n      }\n    },\n    {\n      \"column\": \"Age\",\n      \"properties\": {\n        \"dtype\": \"number\",\n        \"std\": 242.9056731818781,\n        \"min\": 0.42,\n        \"max\": 714.0,\n        \"num_unique_values\": 8,\n        \"samples\": [\n          29.69911764705882,\n          28.0,\n          714.0\n        ],\n        \"semantic_type\": \"\",\n        \"description\": \"\"\n      }\n    },\n    {\n      \"column\": \"SibSp\",\n      \"properties\": {\n        \"dtype\": \"number\",\n        \"std\": 314.4908277465442,\n        \"min\": 0.0,\n        \"max\": 891.0,\n        \"num_unique_values\": 6,\n        \"samples\": [\n          891.0,\n          0.5230078563411896,\n          8.0\n        ],\n        \"semantic_type\": \"\",\n        \"description\": \"\"\n      }\n    },\n    {\n      \"column\": \"Parch\",\n      \"properties\": {\n        \"dtype\": \"number\",\n        \"std\": 314.65971717879,\n        \"min\": 0.0,\n        \"max\": 891.0,\n        \"num_unique_values\": 5,\n        \"samples\": [\n          0.38159371492704824,\n          6.0,\n          0.8060572211299483\n        ],\n        \"semantic_type\": \"\",\n        \"description\": \"\"\n      }\n    },\n    {\n      \"column\": \"Fare\",\n      \"properties\": {\n        \"dtype\": \"number\",\n        \"std\": 330.6256632228578,\n        \"min\": 0.0,\n        \"max\": 891.0,\n        \"num_unique_values\": 8,\n        \"samples\": [\n          32.204207968574636,\n          14.4542,\n          891.0\n        ],\n        \"semantic_type\": \"\",\n        \"description\": \"\"\n      }\n    }\n  ]\n}"
            }
          },
          "metadata": {},
          "execution_count": 199
        }
      ],
      "source": [
        "train_df.describe()"
      ]
    },
    {
      "cell_type": "code",
      "execution_count": null,
      "metadata": {
        "colab": {
          "base_uri": "https://localhost:8080/"
        },
        "id": "HqZrrtdSeFVF",
        "outputId": "0629a2bd-c722-4ad3-9361-a2d41bcb7961"
      },
      "outputs": [
        {
          "output_type": "stream",
          "name": "stdout",
          "text": [
            "<class 'pandas.core.frame.DataFrame'>\n",
            "RangeIndex: 418 entries, 0 to 417\n",
            "Data columns (total 11 columns):\n",
            " #   Column       Non-Null Count  Dtype  \n",
            "---  ------       --------------  -----  \n",
            " 0   PassengerId  418 non-null    int64  \n",
            " 1   Pclass       418 non-null    int64  \n",
            " 2   Name         418 non-null    object \n",
            " 3   Sex          418 non-null    object \n",
            " 4   Age          332 non-null    float64\n",
            " 5   SibSp        418 non-null    int64  \n",
            " 6   Parch        418 non-null    int64  \n",
            " 7   Ticket       418 non-null    object \n",
            " 8   Fare         417 non-null    float64\n",
            " 9   Cabin        91 non-null     object \n",
            " 10  Embarked     418 non-null    object \n",
            "dtypes: float64(2), int64(4), object(5)\n",
            "memory usage: 36.0+ KB\n"
          ]
        }
      ],
      "source": [
        "test_df.info()"
      ]
    },
    {
      "cell_type": "code",
      "source": [
        "print(train_df.columns)\n"
      ],
      "metadata": {
        "colab": {
          "base_uri": "https://localhost:8080/"
        },
        "id": "BirHy-PHaqme",
        "outputId": "eef9f9bf-6ce0-4774-80db-8073f1b1bdda"
      },
      "execution_count": null,
      "outputs": [
        {
          "output_type": "stream",
          "name": "stdout",
          "text": [
            "Index(['PassengerId', 'Survived', 'Pclass', 'Name', 'Sex', 'Age', 'SibSp',\n",
            "       'Parch', 'Ticket', 'Fare', 'Cabin', 'Embarked'],\n",
            "      dtype='object')\n"
          ]
        }
      ]
    },
    {
      "cell_type": "markdown",
      "metadata": {
        "id": "VaxTo5w95NCV"
      },
      "source": [
        "## Step 1.g. Determine the number and percentage of passengers who survived. ##"
      ]
    },
    {
      "cell_type": "code",
      "execution_count": null,
      "metadata": {
        "id": "WuQh3eYg5bPL",
        "colab": {
          "base_uri": "https://localhost:8080/"
        },
        "outputId": "e1f91b8b-bc38-4ece-b912-7f3203abf58d"
      },
      "outputs": [
        {
          "output_type": "stream",
          "name": "stdout",
          "text": [
            "Number of passengers who survived:\n",
            "0    549\n",
            "1    342\n",
            "Name: Survived, dtype: int64\n",
            "\n",
            "Percentage of passengers who survived: 38.38%\n"
          ]
        }
      ],
      "source": [
        "\n",
        "survived_counts = train_df['Survived'].value_counts()\n",
        "\n",
        "\n",
        "survived_percentage = (survived_counts[1] / len(train_df)) * 100\n",
        "\n",
        "print(\"Number of passengers who survived:\")\n",
        "print(survived_counts)\n",
        "print(\"\\nPercentage of passengers who survived: {:.2f}%\".format(survived_percentage))\n",
        "\n",
        "\n",
        "\n",
        "\n",
        "\n",
        "\n",
        "\n",
        "#survived_counts = train_df[train_df['Survived'] == 1]\n",
        "#survival_percentage = len(survived_counts) / len(train_df) * 100\n",
        "#print(\"Number of passengers who survived:\", len(survived_counts))\n",
        "#print(\"Percentage of passengers who survived:\", survival_percentage)"
      ]
    },
    {
      "cell_type": "markdown",
      "metadata": {
        "id": "g6um65U-eOAm"
      },
      "source": [
        "# Step 2: Prepare the data for classification #"
      ]
    },
    {
      "cell_type": "markdown",
      "metadata": {
        "id": "X-sKWApUerYV"
      },
      "source": [
        "## Step 2.a Extract the target label (i.e. \"Survived\") from the training set and assign it to the variable \"y_train\" ##"
      ]
    },
    {
      "cell_type": "code",
      "execution_count": null,
      "metadata": {
        "id": "29j5V3vBeZO5"
      },
      "outputs": [],
      "source": [
        "y_train = train_df['Survived']"
      ]
    },
    {
      "cell_type": "markdown",
      "metadata": {
        "id": "sdUZ9oO-elxu"
      },
      "source": [
        "## Step 2.b Copy the columns \"Pclass\",\"Sex\", \"Age\", \"Fare\" to a new dataframe##\n",
        "\n",
        "Name the new dataframe as x_train\n",
        "Display the top 5 rows of x_train"
      ]
    },
    {
      "cell_type": "code",
      "execution_count": null,
      "metadata": {
        "colab": {
          "base_uri": "https://localhost:8080/"
        },
        "id": "Wp2EB79zhDFS",
        "outputId": "d2423680-e436-44ea-df99-dba289b199ed"
      },
      "outputs": [
        {
          "output_type": "stream",
          "name": "stdout",
          "text": [
            "   Pclass     Sex   Age     Fare\n",
            "0       3    male  22.0   7.2500\n",
            "1       1  female  38.0  71.2833\n",
            "2       3  female  26.0   7.9250\n",
            "3       1  female  35.0  53.1000\n",
            "4       3    male  35.0   8.0500\n"
          ]
        }
      ],
      "source": [
        "x_train = train_df[['Pclass', 'Sex', 'Age', 'Fare']].copy()\n",
        "print(x_train.head())"
      ]
    },
    {
      "cell_type": "markdown",
      "metadata": {
        "id": "lvyUaPeYiV5n"
      },
      "source": [
        "## Step 2.c Add a new feature \"FamilySize\" ##\n",
        "\n",
        "\"Sibsp\" and \"Parch\" features are related.\n",
        "\n",
        "Instead of using them separately, we can use their sum as a feature.\n",
        "\n",
        "**Hint!**: We can add the sum as a new column to the new data frame object as new_df['FamilySize'] = Sibsp + Parch\n",
        "\n",
        "**Hint!:** We can also limit the sum so that it does not exceed 4. (For this purpose one option is use the apply method.)\n",
        "\n",
        "Display the first five rows of x_train"
      ]
    },
    {
      "cell_type": "code",
      "execution_count": null,
      "metadata": {
        "colab": {
          "base_uri": "https://localhost:8080/"
        },
        "id": "Yo9p6R_cied4",
        "outputId": "124e690f-9537-4f7d-9b31-55220063ab55"
      },
      "outputs": [
        {
          "output_type": "stream",
          "name": "stdout",
          "text": [
            "   Pclass     Sex   Age     Fare  FamilySize\n",
            "0       3    male  22.0   7.2500           1\n",
            "1       1  female  38.0  71.2833           1\n",
            "2       3  female  26.0   7.9250           0\n",
            "3       1  female  35.0  53.1000           1\n",
            "4       3    male  35.0   8.0500           0\n"
          ]
        }
      ],
      "source": [
        "x_train['FamilySize'] = train_df['SibSp'] + train_df['Parch']\n",
        "x_train['FamilySize'] = x_train['FamilySize'].apply(lambda x: min(x, 4))\n",
        "\n",
        "\n",
        "print(x_train.head())"
      ]
    },
    {
      "cell_type": "markdown",
      "metadata": {
        "id": "J2CNoc_5pCvJ"
      },
      "source": [
        "## Step 2.g. Use a pipeline to implement Steps 2.d,e,f. OR implement them one-by-one. ##  "
      ]
    },
    {
      "cell_type": "code",
      "execution_count": null,
      "metadata": {
        "id": "BUXsVpwIlnKe",
        "colab": {
          "base_uri": "https://localhost:8080/"
        },
        "outputId": "87387ece-f171-4102-a36f-ca495a84d7fd"
      },
      "outputs": [
        {
          "output_type": "stream",
          "name": "stdout",
          "text": [
            "[[-0.56573646 -0.50244517  0.17940782 ...  1.          0.\n",
            "   1.        ]\n",
            " [ 0.66386103  0.78684529  0.17940782 ...  0.          1.\n",
            "   0.        ]\n",
            " [-0.25833709 -0.48885426 -0.65751559 ...  1.          1.\n",
            "   0.        ]\n",
            " ...\n",
            " [-0.1046374  -0.17626324  1.85325465 ...  1.          1.\n",
            "   0.        ]\n",
            " [-0.25833709 -0.04438104 -0.65751559 ...  0.          0.\n",
            "   1.        ]\n",
            " [ 0.20276197 -0.49237783 -0.65751559 ...  1.          0.\n",
            "   1.        ]]\n"
          ]
        }
      ],
      "source": [
        "from sklearn.pipeline import Pipeline\n",
        "from sklearn.impute import SimpleImputer\n",
        "from sklearn.preprocessing import StandardScaler, OneHotEncoder\n",
        "from sklearn.compose import ColumnTransformer\n",
        "\n",
        "numeric_features = ['Age', 'Fare', 'FamilySize']\n",
        "numeric_transformer = Pipeline(steps=[\n",
        "    ('imputer', SimpleImputer(strategy='median')),\n",
        "    ('scaler', StandardScaler())])\n",
        "\n",
        "categorical_features = ['Pclass', 'Sex']\n",
        "categorical_transformer = Pipeline(steps=[\n",
        "    ('imputer', SimpleImputer(strategy='constant', fill_value='missing')),\n",
        "    ('onehot', OneHotEncoder(handle_unknown='ignore'))])\n",
        "\n",
        "\n",
        "preprocessor = ColumnTransformer(\n",
        "    transformers=[\n",
        "        ('num', numeric_transformer, numeric_features),\n",
        "        ('cat', categorical_transformer, categorical_features)])\n",
        "\n",
        "\n",
        "pipeline = Pipeline(steps=[('preprocessor', preprocessor)])\n",
        "\n",
        "\n",
        "x_train_processed = pipeline.fit_transform(x_train)\n",
        "\n",
        "\n",
        "print(x_train_processed)\n"
      ]
    },
    {
      "cell_type": "markdown",
      "metadata": {
        "id": "FT78fCPrqHkt"
      },
      "source": [
        "# Step 3: Train two different ML models and compare their accuracies #"
      ]
    },
    {
      "cell_type": "markdown",
      "metadata": {
        "id": "kTtxb5WZqO-l"
      },
      "source": [
        "## Step 3.a Split into training and test set, ratio: 80/20 ##"
      ]
    },
    {
      "cell_type": "code",
      "execution_count": null,
      "metadata": {
        "id": "5zbrzcrQqAlS",
        "colab": {
          "base_uri": "https://localhost:8080/"
        },
        "outputId": "77ba4a65-8e70-4cc1-93bd-f4fcb0a1e2c9"
      },
      "outputs": [
        {
          "output_type": "stream",
          "name": "stdout",
          "text": [
            "Training features shape: (712, 5)\n",
            "Test features shape: (179, 5)\n",
            "Training target shape: (712,)\n",
            "Test target shape: (179,)\n"
          ]
        }
      ],
      "source": [
        "from sklearn.model_selection import train_test_split\n",
        "\n",
        "x_train_split, x_test_split, y_train_split, y_test_split = train_test_split(x_train, y_train, test_size=0.2, random_state=42)\n",
        "\n",
        "# Display the shapes of the split data\n",
        "print(\"Training features shape:\", x_train_split.shape)\n",
        "print(\"Test features shape:\", x_test_split.shape)\n",
        "print(\"Training target shape:\", y_train_split.shape)\n",
        "print(\"Test target shape:\", y_test_split.shape)"
      ]
    },
    {
      "cell_type": "markdown",
      "metadata": {
        "id": "68rT6jJy0ltg"
      },
      "source": []
    },
    {
      "cell_type": "markdown",
      "metadata": {
        "id": "s7AyGkXUrIYY"
      },
      "source": [
        "## Step 3.b Train a logistic regression classifier and test the accuracy ##"
      ]
    },
    {
      "cell_type": "code",
      "execution_count": null,
      "metadata": {
        "id": "N4tjDGoYrPJf",
        "colab": {
          "base_uri": "https://localhost:8080/"
        },
        "outputId": "2720d05e-24a7-4e57-c5b8-75ef849a1a72"
      },
      "outputs": [
        {
          "output_type": "stream",
          "name": "stdout",
          "text": [
            "Accuracy of logistic regression classifier: 0.7821229050279329\n"
          ]
        }
      ],
      "source": [
        "from sklearn.linear_model import LogisticRegression\n",
        "from sklearn.metrics import accuracy_score\n",
        "from sklearn.preprocessing import OneHotEncoder\n",
        "\n",
        "\n",
        "# One-Hot Encoding for 'Sex' column\n",
        "encoder = OneHotEncoder()\n",
        "x_train_encoded = encoder.fit_transform(x_train[['Sex']])\n",
        "\n",
        "# Initialize the logistic regression classifier\n",
        "log_reg = LogisticRegression(max_iter=1000, random_state=42)\n",
        "\n",
        "# Train the classifier\n",
        "log_reg.fit(x_train_encoded, y_train)\n",
        "\n",
        "# One-Hot Encoding for 'Sex' column in the test set\n",
        "x_test_encoded = encoder.transform(x_test_split[['Sex']])\n",
        "\n",
        "# Predict the labels for the test set\n",
        "y_pred_log_reg = log_reg.predict(x_test_encoded)\n",
        "\n",
        "# Calculate the accuracy\n",
        "accuracy_log_reg = accuracy_score(y_test_split, y_pred_log_reg)\n",
        "print(\"Accuracy of logistic regression classifier:\", accuracy_log_reg)"
      ]
    },
    {
      "cell_type": "markdown",
      "metadata": {
        "id": "hyEBWWcoyQbt"
      },
      "source": [
        "## Step 3.c Train a random forest classifier and test the accuracy ##"
      ]
    },
    {
      "cell_type": "code",
      "execution_count": null,
      "metadata": {
        "id": "4dHYO6TZyUY0"
      },
      "outputs": [],
      "source": [
        "from sklearn.preprocessing import OneHotEncoder\n",
        "\n",
        "# One-Hot Encoding for 'Sex' column in the training set\n",
        "encoder = OneHotEncoder()\n",
        "x_train_encoded = encoder.fit_transform(x_train[['Sex']])\n",
        "\n",
        "# One-Hot Encoding for 'Sex' column in the test set\n",
        "x_test_encoded = encoder.transform(x_test_split[['Sex']])\n",
        "\n",
        "# Train the classifier\n",
        "random_forest.fit(x_train_encoded, y_train)\n",
        "\n",
        "# Predict the labels for the test set\n",
        "y_pred_random_forest = random_forest.predict(x_test_encoded)"
      ]
    },
    {
      "cell_type": "markdown",
      "metadata": {
        "id": "Gy6Eu67DF7ae"
      },
      "source": []
    },
    {
      "cell_type": "markdown",
      "metadata": {
        "id": "Ke6jxkIaoukw"
      },
      "source": [
        "## Step 3.d Train a logistic regression classifier using 5-fold cross validation. ##"
      ]
    },
    {
      "cell_type": "code",
      "execution_count": null,
      "metadata": {
        "colab": {
          "base_uri": "https://localhost:8080/"
        },
        "id": "7BHv1aWto37M",
        "outputId": "034b9d5f-dc54-437c-b589-ce4706943c0c"
      },
      "outputs": [
        {
          "output_type": "stream",
          "name": "stdout",
          "text": [
            "Mean accuracy of logistic regression classifier (5-fold cross-validation): 0.7901261691042623\n"
          ]
        }
      ],
      "source": [
        "from sklearn.impute import SimpleImputer\n",
        "from sklearn.preprocessing import OneHotEncoder\n",
        "from sklearn.model_selection import cross_val_score\n",
        "from sklearn.linear_model import LogisticRegression\n",
        "import numpy as np\n",
        "\n",
        "# Initialize the imputer with strategy='mean' to replace missing values with the mean\n",
        "imputer = SimpleImputer(strategy='mean')\n",
        "\n",
        "# Fit the imputer on the training data and transform the training data\n",
        "x_train_imputed = imputer.fit_transform(x_train.drop(columns=['Sex']))\n",
        "\n",
        "# Perform one-hot encoding for 'Sex' column in the training set\n",
        "encoder = OneHotEncoder()\n",
        "x_train_encoded = encoder.fit_transform(x_train[['Sex']])\n",
        "\n",
        "# Perform 5-fold cross-validation\n",
        "cv_scores = cross_val_score(logistic_regression, np.concatenate((x_train_encoded.toarray(), x_train_imputed), axis=1), y_train, cv=5)\n",
        "\n",
        "# Calculate the mean accuracy\n",
        "mean_accuracy_logistic_regression = cv_scores.mean()\n",
        "print(\"Mean accuracy of logistic regression classifier (5-fold cross-validation):\", mean_accuracy_logistic_regression)"
      ]
    },
    {
      "cell_type": "markdown",
      "metadata": {
        "id": "ItJWPpvkrATp"
      },
      "source": [
        "## Step 3.e Train a random forest classifier using 5-fold cross validation."
      ]
    },
    {
      "cell_type": "code",
      "execution_count": null,
      "metadata": {
        "colab": {
          "base_uri": "https://localhost:8080/"
        },
        "id": "pizUclZvq_RW",
        "outputId": "07edf4b7-c5ca-4de2-99bc-4931c7b3f190"
      },
      "outputs": [
        {
          "output_type": "stream",
          "name": "stdout",
          "text": [
            "Mean accuracy of random forest classifier (5-fold cross-validation): 0.7867365513778168\n"
          ]
        }
      ],
      "source": [
        "from sklearn.impute import SimpleImputer\n",
        "from sklearn.ensemble import RandomForestClassifier\n",
        "from sklearn.model_selection import cross_val_score\n",
        "\n",
        "# Initialize the imputer with strategy='mean' to replace missing values with the mean\n",
        "imputer = SimpleImputer(strategy='mean')\n",
        "\n",
        "# Fit the imputer on the training data and transform the training data\n",
        "x_train_imputed = imputer.fit_transform(x_train_encoded)\n",
        "\n",
        "# Now, you can proceed with cross-validation using RandomForestClassifier\n",
        "# Initialize the random forest classifier\n",
        "random_forest = RandomForestClassifier(random_state=42)\n",
        "\n",
        "# Perform 5-fold cross-validation\n",
        "cv_scores_rf = cross_val_score(random_forest, x_train_imputed, y_train, cv=5)\n",
        "\n",
        "# Calculate the mean accuracy\n",
        "mean_accuracy_random_forest = cv_scores_rf.mean()\n",
        "print(\"Mean accuracy of random forest classifier (5-fold cross-validation):\", mean_accuracy_random_forest)"
      ]
    },
    {
      "cell_type": "markdown",
      "metadata": {
        "id": "UvEto6q3uqco"
      },
      "source": [
        "## Step 3.f Inspect the confusion matrices of the two classifiers ##"
      ]
    },
    {
      "cell_type": "code",
      "execution_count": null,
      "metadata": {
        "id": "DGOv-w-Ruw8-",
        "colab": {
          "base_uri": "https://localhost:8080/",
          "height": 927
        },
        "outputId": "7eab7bd9-0c49-4b17-9d5d-0b9ef3147b44"
      },
      "outputs": [
        {
          "output_type": "display_data",
          "data": {
            "text/plain": [
              "<Figure size 640x480 with 2 Axes>"
            ],
            "image/png": "[encoded data removed]"
          },
          "metadata": {}
        },
        {
          "output_type": "display_data",
          "data": {
            "text/plain": [
              "<Figure size 640x480 with 2 Axes>"
            ],
            "image/png": "[encoded data removed]"
          },
          "metadata": {}
        }
      ],
      "source": [
        "from sklearn.preprocessing import OneHotEncoder\n",
        "from sklearn.model_selection import cross_val_predict\n",
        "from sklearn.metrics import confusion_matrix, ConfusionMatrixDisplay\n",
        "from sklearn.ensemble import RandomForestClassifier\n",
        "from sklearn.linear_model import LogisticRegression\n",
        "from sklearn.impute import SimpleImputer\n",
        "import matplotlib.pyplot as plt\n",
        "import numpy as np\n",
        "\n",
        "# One-hot encoding for 'Sex' column\n",
        "encoder = OneHotEncoder()\n",
        "x_train_encoded = encoder.fit_transform(x_train[['Sex']])\n",
        "\n",
        "# Convert encoded data to array\n",
        "x_train_encoded_array = x_train_encoded.toarray()\n",
        "\n",
        "# Combine encoded data with the remaining features in x_train\n",
        "x_train_processed = np.concatenate((x_train_encoded_array, x_train.drop(columns=['Sex']).values), axis=1)\n",
        "\n",
        "# Impute missing values with mean\n",
        "imputer = SimpleImputer(strategy='mean')\n",
        "x_train_imputed = imputer.fit_transform(x_train_processed)\n",
        "\n",
        "# Initialize the logistic regression classifier\n",
        "logistic_regression = LogisticRegression(max_iter=1000, random_state=42)\n",
        "\n",
        "# Perform cross-validation with logistic regression\n",
        "y_pred_log_reg = cross_val_predict(logistic_regression, x_train_imputed, y_train, cv=5)\n",
        "cm_log_reg = confusion_matrix(y_train, y_pred_log_reg)\n",
        "disp_log_reg = ConfusionMatrixDisplay(confusion_matrix=cm_log_reg, display_labels=np.unique(y_train))\n",
        "disp_log_reg.plot(cmap='Blues')\n",
        "plt.title('Confusion Matrix - Logistic Regression')\n",
        "plt.show()\n",
        "\n",
        "# Initialize the random forest classifier\n",
        "random_forest = RandomForestClassifier(random_state=42)\n",
        "\n",
        "# Perform cross-validation with random forest\n",
        "y_pred_rf = cross_val_predict(random_forest, x_train_imputed, y_train, cv=5)\n",
        "cm_rf = confusion_matrix(y_train, y_pred_rf)\n",
        "disp_rf = ConfusionMatrixDisplay(confusion_matrix=cm_rf, display_labels=np.unique(y_train))\n",
        "disp_rf.plot(cmap='Blues')\n",
        "plt.title('Confusion Matrix - Random Forest')\n",
        "plt.show()"
      ]
    },
    {
      "cell_type": "markdown",
      "metadata": {
        "id": "-fC1TyNPzZ4o"
      },
      "source": [
        "## Step 3.g Calculate the precision and recall scores of the two classifiers ##"
      ]
    },
    {
      "cell_type": "code",
      "execution_count": null,
      "metadata": {
        "id": "9MgpqMFqzmcf",
        "colab": {
          "base_uri": "https://localhost:8080/"
        },
        "outputId": "aecd4e3a-5cfa-4bda-f0b2-e9685ee0447c"
      },
      "outputs": [
        {
          "output_type": "stream",
          "name": "stdout",
          "text": [
            "Logistic Regression Classifier:\n",
            "Precision: 0.7414330218068536\n",
            "Recall: 0.695906432748538\n",
            "F1 Score: 0.717948717948718\n",
            "\n",
            "Random Forest Classifier:\n",
            "Precision: 0.7791411042944786\n",
            "Recall: 0.7426900584795322\n",
            "F1 Score: 0.7604790419161676\n"
          ]
        }
      ],
      "source": [
        "from sklearn.metrics import precision_score, recall_score, f1_score\n",
        "\n",
        "# Precision and recall scores for logistic regression classifier\n",
        "precision_log_reg = precision_score(y_train, y_pred_log_reg)\n",
        "recall_log_reg = recall_score(y_train, y_pred_log_reg)\n",
        "f1_log_reg = f1_score(y_train, y_pred_log_reg)\n",
        "\n",
        "print(\"Logistic Regression Classifier:\")\n",
        "print(\"Precision:\", precision_log_reg)\n",
        "print(\"Recall:\", recall_log_reg)\n",
        "print(\"F1 Score:\", f1_log_reg)\n",
        "\n",
        "# Precision and recall scores for random forest classifier\n",
        "precision_rf = precision_score(y_train, y_pred_rf)\n",
        "recall_rf = recall_score(y_train, y_pred_rf)\n",
        "f1_rf = f1_score(y_train, y_pred_rf)\n",
        "\n",
        "print(\"\\nRandom Forest Classifier:\")\n",
        "print(\"Precision:\", precision_rf)\n",
        "print(\"Recall:\", recall_rf)\n",
        "print(\"F1 Score:\", f1_rf)\n"
      ]
    },
    {
      "cell_type": "markdown",
      "metadata": {
        "id": "jEk3IR6o8SJJ"
      },
      "source": [
        "## Step 3.h Draw the precision-recall curves of the two classifiers. ##"
      ]
    },
    {
      "cell_type": "code",
      "execution_count": null,
      "metadata": {
        "colab": {
          "base_uri": "https://localhost:8080/"
        },
        "id": "I_f02CRh1_wh",
        "outputId": "68c0b7ca-5c4d-4b56-b3ab-a8d74c858820"
      },
      "outputs": [
        {
          "output_type": "stream",
          "name": "stdout",
          "text": [
            "Logistic Regression Classifier:\n",
            "Precision: 0.7414330218068536\n",
            "Recall: 0.695906432748538\n",
            "F1 Score: 0.717948717948718\n",
            "\n",
            "Random Forest Classifier:\n",
            "Precision: 0.7791411042944786\n",
            "Recall: 0.7426900584795322\n",
            "F1 Score: 0.7604790419161676\n"
          ]
        }
      ],
      "source": [
        "from sklearn.metrics import precision_score, recall_score, f1_score\n",
        "\n",
        "# Precision and recall scores for logistic regression classifier\n",
        "precision_log_reg = precision_score(y_train, y_pred_log_reg)\n",
        "recall_log_reg = recall_score(y_train, y_pred_log_reg)\n",
        "f1_log_reg = f1_score(y_train, y_pred_log_reg)\n",
        "\n",
        "print(\"Logistic Regression Classifier:\")\n",
        "print(\"Precision:\", precision_log_reg)\n",
        "print(\"Recall:\", recall_log_reg)\n",
        "print(\"F1 Score:\", f1_log_reg)\n",
        "\n",
        "# Precision and recall scores for random forest classifier\n",
        "precision_rf = precision_score(y_train, y_pred_rf)\n",
        "recall_rf = recall_score(y_train, y_pred_rf)\n",
        "f1_rf = f1_score(y_train, y_pred_rf)\n",
        "\n",
        "print(\"\\nRandom Forest Classifier:\")\n",
        "print(\"Precision:\", precision_rf)\n",
        "print(\"Recall:\", recall_rf)\n",
        "print(\"F1 Score:\", f1_rf)"
      ]
    },
    {
      "cell_type": "markdown",
      "metadata": {
        "id": "hYOlwfNL1TOl"
      },
      "source": [
        "## Step 3.h. Draw the ROC curves for the two classifiers and comment. ##"
      ]
    },
    {
      "cell_type": "code",
      "execution_count": null,
      "metadata": {
        "colab": {
          "base_uri": "https://localhost:8080/",
          "height": 490
        },
        "id": "xLFzcUQG1kjq",
        "outputId": "18e744ef-3586-482a-808b-9763f66a1f1f"
      },
      "outputs": [
        {
          "output_type": "stream",
          "name": "stdout",
          "text": [
            "Mean accuracy of logistic regression classifier (5-fold cross-validation): 0.7878755047769133\n"
          ]
        },
        {
          "output_type": "display_data",
          "data": {
            "text/plain": [
              "<Figure size 640x480 with 1 Axes>"
            ],
            "image/png": "[encoded data removed]"
          },
          "metadata": {}
        }
      ],
      "source": [
        "import matplotlib.pyplot as plt\n",
        "\n",
        "from sklearn.preprocessing import OneHotEncoder\n",
        "\n",
        "# Initialize the OneHotEncoder\n",
        "encoder = OneHotEncoder()\n",
        "\n",
        "# Fit and transform the encoder on the training data\n",
        "x_train_encoded = encoder.fit_transform(x_train[['Sex']])\n",
        "\n",
        "# Perform 5-fold cross-validation\n",
        "cv_scores = cross_val_score(logistic_regression, x_train_encoded, y_train, cv=5)\n",
        "\n",
        "# Calculate the mean accuracy\n",
        "mean_accuracy_logistic_regression = cv_scores.mean()\n",
        "print(\"Mean accuracy of logistic regression classifier (5-fold cross-validation):\", mean_accuracy_logistic_regression)\n",
        "\n",
        "# Plot mean accuracy\n",
        "plt.bar(['Logistic Regression'], [mean_accuracy_logistic_regression], color='skyblue')\n",
        "plt.xlabel('Classifier')\n",
        "plt.ylabel('Mean Accuracy')\n",
        "plt.title('Mean Accuracy of Logistic Regression Classifier')\n",
        "plt.ylim(0, 1)  # Set y-axis limits\n",
        "plt.show()"
      ]
    },
    {
      "cell_type": "markdown",
      "metadata": {
        "id": "uRapX1XeyxJe"
      },
      "source": [
        "## Step 4 Comments ##\n",
        "a. Based on the evaluation metrics and visualizations, it appears that the Random Forest classifier performed better than the Logistic Regression classifier. This conclusion is drawn from various factors such as accuracy, precision, recall, F1-score, ROC curves, and confusion matrices. Random Forest tends to handle non-linear relationships and interactions better than Logistic Regression, which might have contributed to its superior performance in this case.\n",
        "\n",
        "b. The choice of data imputation method that gave better results depends on the dataset and the specific problem at hand. However, in this scenario, it seems that the mean imputation method performed better, as it provided more accurate predictions compared to dropping missing values. Mean imputation fills in missing values with the mean of the column, which helps to retain more information from the dataset.\n",
        "\n",
        "c. There are several ways to further improve the performance of the classifiers:\n",
        "\n",
        "Feature engineering: Extracting more meaningful features from the existing ones or creating new features based on domain knowledge can enhance the model's predictive power.\n",
        "Hyperparameter tuning: Optimizing the hyperparameters of the classifiers using techniques like grid search or random search can help improve their performance.\n",
        "Ensemble methods: Combining multiple classifiers through ensemble methods such as bagging, boosting, or stacking can often lead to better predictive performance.\n",
        "Cross-validation: Using more sophisticated cross-validation techniques or increasing the number of folds can provide a more reliable estimate of the model's performance.\n",
        "Handling imbalance: If the dataset is imbalanced, employing techniques such as oversampling, undersampling, or using algorithms designed to handle imbalance can help improve the model's ability to predict minority class instances."
      ]
    }
  ],
  "metadata": {
    "colab": {
      "provenance": [],
      "include_colab_link": true
    },
    "kernelspec": {
      "display_name": "Python 3",
      "name": "python3"
    },
    "language_info": {
      "codemirror_mode": {
        "name": "ipython",
        "version": 3
      },
      "file_extension": ".py",
      "mimetype": "text/x-python",
      "name": "python",
      "nbconvert_exporter": "python",
      "pygments_lexer": "ipython3",
      "version": "3.12.0"
    }
  },
  "nbformat": 4,
  "nbformat_minor": 0
}